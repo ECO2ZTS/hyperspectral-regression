{
 "cells": [
  {
   "cell_type": "markdown",
   "metadata": {},
   "source": [
    "<div class=\"alert alert-block alert-info\">\n",
    "Section of the book chapter: <b>3. Regression on Data Level</b>\n",
    "</div>\n",
    "\n",
    "# 1. Data Level\n",
    "\n",
    "\n",
    "**Table of Contents**\n",
    "\n",
    "* [1.1 Data handling](#1.1-Data-handling)\n",
    "* [1.2 Dataset shift](#1.2-Dataset-shift)\n",
    "* [1.3 Dataset splitting](#1.3-Dataset-splitting)\n",
    "\n",
    "\n",
    "**Learnings:**\n",
    "\n",
    "- how to read in, validate and scale data,\n",
    "- how datashift looks like in a real world example,\n",
    "- how to split datasets with random, systematic, patch and stratified split.\n",
    "\n",
    "\n",
    "### Packages"
   ]
  },
  {
   "cell_type": "code",
   "execution_count": 1,
   "metadata": {},
   "outputs": [],
   "source": [
    "%matplotlib inline\n",
    "%config InlineBackend.figure_format = 'retina'\n",
    "\n",
    "# ignore warnings\n",
    "import warnings\n",
    "warnings.filterwarnings('ignore')\n",
    "\n",
    "import numpy as np\n",
    "import pandas as pd\n",
    "import seaborn as sns\n",
    "import matplotlib.pyplot as plt\n",
    "import matplotlib as mpl\n",
    "import itertools\n",
    "from patchify import patchify\n",
    "from sklearn.ensemble import RandomForestRegressor\n",
    "\n",
    "import utils"
   ]
  },
  {
   "cell_type": "markdown",
   "metadata": {},
   "source": [
    "### Read in Data\n",
    "\n",
    "**Dataset:** Felix M. Riese and Sina Keller, \"Hyperspectral benchmark dataset on soil moisture\", Dataset, Zenodo, 2018. [DOI:10.5281/zenodo.1227836](http://doi.org/10.5281/zenodo.1227836) and [GitHub](https://github.com/felixriese/hyperspectral-soilmoisture-dataset)\n",
    "\n",
    "**Introducing paper:** Felix M. Riese and Sina Keller, “Introducing a Framework of Self-Organizing Maps for Regression of Soil Moisture with Hyperspectral Data,” in IGARSS 2018 - 2018 IEEE International Geoscience and Remote Sensing Symposium, Valencia, Spain, 2018, pp. 6151-6154. [DOI:10.1109/IGARSS.2018.8517812](https://doi.org/10.1109/IGARSS.2018.8517812)"
   ]
  },
  {
   "cell_type": "code",
   "execution_count": null,
   "metadata": {},
   "outputs": [],
   "source": [
    "X, y = utils.get_xy()"
   ]
  },
  {
   "cell_type": "markdown",
   "metadata": {},
   "source": [
    "### Plot Configurations"
   ]
  },
  {
   "cell_type": "code",
   "execution_count": null,
   "metadata": {},
   "outputs": [],
   "source": [
    "norm = mpl.colors.Normalize(vmin=np.min(y), vmax=np.max(y))\n",
    "cmap = \"cividis_r\"\n",
    "\n",
    "\n",
    "myblue = \"#4664ab\"\n",
    "myblue30 = \"#c7d0e6\"\n",
    "myred = \"#9b1724\""
   ]
  },
  {
   "cell_type": "markdown",
   "metadata": {},
   "source": [
    "### Fix Random State"
   ]
  },
  {
   "cell_type": "code",
   "execution_count": null,
   "metadata": {},
   "outputs": [],
   "source": [
    "np.random.seed(42)"
   ]
  },
  {
   "cell_type": "markdown",
   "metadata": {},
   "source": [
    "***\n",
    "\n",
    "## 1.1 Data handling\n",
    "\n",
    "Steps:\n",
    "\n",
    "- [1.1.1 Collect the data](#1.1.1-Collect-the-data)\n",
    "- [1.1.2 Validate the data](#1.1.2-Validate-the-data)\n",
    "- [1.1.3 Prepare the data](#1.1.3-Prepare-the-data)\n",
    "\n",
    "### 1.1.1 Collect the data\n",
    "\n",
    "Columns:\n",
    "\n",
    "* `0` - `124`: 125 hyperspectral bands\n",
    "* `soil_moisture`: target variable of soil moisture in percent"
   ]
  },
  {
   "cell_type": "code",
   "execution_count": null,
   "metadata": {},
   "outputs": [],
   "source": [
    "df = pd.DataFrame(X) \n",
    "df[\"soil_moisture\"] = y"
   ]
  },
  {
   "cell_type": "markdown",
   "metadata": {},
   "source": [
    "### 1.1.2 Validate the data"
   ]
  },
  {
   "cell_type": "code",
   "execution_count": null,
   "metadata": {},
   "outputs": [],
   "source": [
    "# dataset statistics\n",
    "df.describe()"
   ]
  },
  {
   "cell_type": "code",
   "execution_count": null,
   "metadata": {},
   "outputs": [],
   "source": [
    "# target variable distribution\n",
    "df[\"soil_moisture\"].hist()\n",
    "plt.show()"
   ]
  },
  {
   "cell_type": "code",
   "execution_count": null,
   "metadata": {},
   "outputs": [],
   "source": [
    "# correlations of different features and the target variable in a heatmap\n",
    "sns.heatmap(df[[0, 1, 2, 3, 4, \"soil_moisture\"]].corr(), vmin=-1., vmax=1.)\n",
    "plt.show()"
   ]
  },
  {
   "cell_type": "markdown",
   "metadata": {},
   "source": [
    "### 1.1.3 Prepare the data\n",
    "\n",
    "We use the [StandardScaler](https://scikit-learn.org/stable/modules/generated/sklearn.preprocessing.StandardScaler.html) to scale our data. The resulting `X_scaled` is the scaled input data `X`."
   ]
  },
  {
   "cell_type": "code",
   "execution_count": null,
   "metadata": {},
   "outputs": [],
   "source": [
    "from sklearn.preprocessing import StandardScaler\n",
    "\n",
    "scaler = StandardScaler()\n",
    "X_scaled = scaler.fit_transform(X)"
   ]
  },
  {
   "cell_type": "markdown",
   "metadata": {},
   "source": [
    "***\n",
    "\n",
    "## 1.2 Dataset shift\n",
    "\n",
    "Content:\n",
    "\n",
    "- [1.2.1 Generate shifted dataset](#1.2.1-Generate-shifted-dataset)\n",
    "- [1.2.2 Simple regression](#1.2.2-Simple-regression)\n",
    "\n",
    "### 1.2.1 Generate shifted dataset"
   ]
  },
  {
   "cell_type": "code",
   "execution_count": null,
   "metadata": {},
   "outputs": [],
   "source": [
    "# get shifted data\n",
    "X_train, X_test, y_test, y_train = utils.get_xy_shifted()\n",
    "print(X_train.shape, y_train.shape, X_test.shape, y_test.shape)"
   ]
  },
  {
   "cell_type": "code",
   "execution_count": null,
   "metadata": {},
   "outputs": [],
   "source": [
    "# plot shifted data\n",
    "fontsize = 15\n",
    "\n",
    "fig, ax = plt.subplots(1,1, figsize=(7,4))\n",
    "\n",
    "bins = np.arange(25., 42.5, 2.5)\n",
    "plt.hist(y_train, bins=bins, label=\"Training\", alpha=1.0, color=myblue)\n",
    "plt.hist(y_test, bins=bins, label=\"Unknown\", alpha=1.0, color=myblue30)\n",
    "\n",
    "lfact = 0.9\n",
    "leg = plt.legend(title=\"Datasets:\", fontsize=fontsize*lfact, frameon=False)\n",
    "plt.setp(leg.get_title(), fontsize=fontsize*lfact)\n",
    "\n",
    "plt.xlabel(\"Soil moisture in %\", fontsize=fontsize, labelpad=10)\n",
    "plt.ylabel(\"Number of datapoints\", fontsize=fontsize, labelpad=10)\n",
    "plt.xlim(24, 41)\n",
    "plt.ylim(0, 225)\n",
    "\n",
    "for tick in ax.xaxis.get_major_ticks()[1::2]:\n",
    "    tick.label.set_visible(False)\n",
    "for tick in ax.xaxis.get_major_ticks():\n",
    "    tick.label.set_fontsize(fontsize) \n",
    "for tick in ax.yaxis.get_major_ticks()[1::2]:\n",
    "    tick.label.set_visible(False)\n",
    "for tick in ax.yaxis.get_major_ticks():\n",
    "    tick.label.set_fontsize(fontsize) \n",
    "    \n",
    "plt.savefig(\"plots/datasetshift_distributions.pdf\", bbox_inches=\"tight\")"
   ]
  },
  {
   "cell_type": "markdown",
   "metadata": {},
   "source": [
    "### 1.2.2 Simple regression"
   ]
  },
  {
   "cell_type": "code",
   "execution_count": null,
   "metadata": {},
   "outputs": [],
   "source": [
    "model = RandomForestRegressor(n_estimators=100, n_jobs=-1)\n",
    "model.fit(X_train, y_train)\n",
    "score = model.score(X_test, y_test)\n",
    "print(\"R2 = {0:.2f} %\".format(score*100))"
   ]
  },
  {
   "cell_type": "markdown",
   "metadata": {},
   "source": [
    "***\n",
    "\n",
    "## 1.3 Dataset splitting\n",
    "\n",
    "Content:\n",
    "\n",
    "- [1.3.1 Random Split](#1.3.1-Random-Split)\n",
    "- [1.3.2 Split plot](#1.3.2-Split-plot)\n",
    "\n",
    "### 1.3.1 Random Split"
   ]
  },
  {
   "cell_type": "code",
   "execution_count": null,
   "metadata": {},
   "outputs": [],
   "source": [
    "from sklearn.model_selection import train_test_split\n",
    "\n",
    "X_train, X_test, y_train, y_test = train_test_split(\n",
    "    X, y, test_size=0.5, random_state=42, shuffle=True)"
   ]
  },
  {
   "cell_type": "markdown",
   "metadata": {},
   "source": [
    "### 1.3.2 Split plot"
   ]
  },
  {
   "cell_type": "code",
   "execution_count": null,
   "metadata": {},
   "outputs": [],
   "source": [
    "fig, ((ax1, ax2), (ax3, ax4)) = plt.subplots(2, 2, figsize=(8,8))\n",
    "axes = [ax1, ax2, ax3, ax4]\n",
    "\n",
    "fontsize = 18\n",
    "titleweight = \"bold\"\n",
    "titlepad = 10\n",
    "msize = 100\n",
    "il = 12     # image length\n",
    "\n",
    "# random split\n",
    "data_rand = np.random.randint(low=1, high=il, size=(20,20))\n",
    "ax1.scatter(data_rand[0], data_rand[1], marker=\"o\", color=myblue, s=msize)\n",
    "ax1.set_title(\"(a) Random split\", fontsize=fontsize, fontweight=titleweight, pad=titlepad)\n",
    "\n",
    "# systematic split\n",
    "k = 2\n",
    "data_sys = [(x, y) for (x, y) in itertools.product(range(il), range(il)) if ((x % k == 0) and (y % k == 0))]\n",
    "ax2.scatter([x[0] for x in data_sys], [x[1] for x in data_sys], marker=\"o\", color=myblue, s=msize)\n",
    "ax2.set_title(\"(b) Systematic split\", fontsize=fontsize, fontweight=titleweight, pad=titlepad)\n",
    "\n",
    "# patch split\n",
    "data_pat = np.zeros((il, il), dtype=tuple)\n",
    "for i in range(il):\n",
    "    for j in range(il):\n",
    "        data_pat[i, j] = (i,j)\n",
    "patches = patchify(data_pat, (4, 4), step=4).reshape(3*3, 4*4)\n",
    "split_mask = np.random.rand(il) < 0.5\n",
    "patches_train = []\n",
    "patches_test = []\n",
    "for p in range(patches.shape[0]):\n",
    "    if split_mask[p]:\n",
    "        patches_train.append(patches[p])\n",
    "    else:\n",
    "        patches_test.append(patches[p])\n",
    "ax3.scatter([x[0] for p in patches_train for x in p], [x[1] for p in patches_train for x in p],\n",
    "            marker=\"o\", color=myblue, edgecolor=myblue, s=msize)\n",
    "ax3.set_title(\"(c) Patch split\", fontsize=fontsize, fontweight=titleweight, pad=titlepad)\n",
    "\n",
    "# stratified split\n",
    "data_strat_1 = np.random.randint(low=0, high=2, size=(10,10))\n",
    "data_strat_2 = np.random.randint(low=5, high=9, size=(10,10))\n",
    "data_strat_3 = [(np.random.randint(low=2, high=3), np.random.randint(low=5, high=9)) for _ in range(20)]\n",
    "data_strat_4 = [(np.random.randint(low=7, high=10), np.random.randint(low=1, high=3)) for _ in range(20)]\n",
    "ax4.scatter([x[0] for x in data_strat_1], [x[1] for x in data_strat_1],\n",
    "            marker=\"o\", color=\"white\", edgecolor=\"black\", s=msize)\n",
    "l_train = ax4.scatter([x[0] for x in data_strat_2], [x[1] for x in data_strat_2],\n",
    "                      marker=\"o\", color=\"white\", edgecolor=\"black\", s=msize)\n",
    "ax4.scatter([x[0] for x in data_strat_3], [x[1] for x in data_strat_3], marker=\"o\", color=myblue, s=msize)\n",
    "l_test = ax4.scatter([x[0] for x in data_strat_4], [x[1] for x in data_strat_4],\n",
    "                     marker=\"o\", color=myblue, s=msize)\n",
    "l_not = ax4.scatter([], [], marker=\"s\", color=\"lightgrey\", s=msize) #, edgecolor=\"grey\")\n",
    "ax4.set_facecolor(\"lightgrey\")\n",
    "ax4.set_title(\"(d) Stratified split\", fontsize=fontsize, fontweight=titleweight, pad=titlepad)\n",
    "\n",
    "for i, ax in enumerate(axes):\n",
    "    ax.set_xlim(0,12)\n",
    "    ax.set_ylim(0,12)\n",
    "    # ax.set_xlim(-1,101)\n",
    "    # ax.set_ylim(-1,101)\n",
    "    ax.set_xlabel(\"x coordinate in a.u.\", fontsize=fontsize)\n",
    "    ax.set_ylabel(\"y coordinate in a.u.\", fontsize=fontsize)\n",
    "    \n",
    "    for tick in ax.xaxis.get_major_ticks()[1::2]:\n",
    "        tick.label.set_visible(False)\n",
    "    for tick in ax.xaxis.get_major_ticks():\n",
    "        tick.label.set_fontsize(fontsize) \n",
    "    for tick in ax.yaxis.get_major_ticks()[1::2]:\n",
    "        tick.label.set_visible(False)\n",
    "    for tick in ax.yaxis.get_major_ticks():\n",
    "        tick.label.set_fontsize(fontsize) \n",
    "    \n",
    "    if i != 0 and i != 2:\n",
    "        ax.yaxis.set_visible(False)\n",
    "        \n",
    "    if i != 2 and i != 3:\n",
    "        ax.xaxis.set_visible(False)\n",
    "\n",
    "        \n",
    "leg = fig.legend(\n",
    "    (l_train, l_test, l_not), (\"Training\", \"Test\", \"Not used\"),\n",
    "    bbox_to_anchor=(1.25, 0.65), title=\"Subsets:\", ncol=1, fontsize=fontsize, frameon=False)\n",
    "frame = leg.get_frame()\n",
    "plt.setp(leg.get_title(), fontsize=fontsize)\n",
    "\n",
    "plt.tight_layout()\n",
    "plt.savefig(\"plots/split_approaches.pdf\", bbox_inches=\"tight\")"
   ]
  },
  {
   "cell_type": "code",
   "execution_count": null,
   "metadata": {},
   "outputs": [],
   "source": []
  }
 ],
 "metadata": {
  "kernelspec": {
   "display_name": "Python 3",
   "language": "python",
   "name": "python3"
  },
  "language_info": {
   "codemirror_mode": {
    "name": "ipython",
    "version": 3
   },
   "file_extension": ".py",
   "mimetype": "text/x-python",
   "name": "python",
   "nbconvert_exporter": "python",
   "pygments_lexer": "ipython3",
   "version": "3.7.5"
  },
  "toc": {
   "nav_menu": {
    "height": "208px",
    "width": "227px"
   },
   "number_sections": false,
   "sideBar": true,
   "skip_h1_title": false,
   "toc_cell": false,
   "toc_position": {},
   "toc_section_display": "block",
   "toc_window_display": false
  },
  "varInspector": {
   "cols": {
    "lenName": 16,
    "lenType": 16,
    "lenVar": 40
   },
   "kernels_config": {
    "python": {
     "delete_cmd_postfix": "",
     "delete_cmd_prefix": "del ",
     "library": "var_list.py",
     "varRefreshCmd": "print(var_dic_list())"
    },
    "r": {
     "delete_cmd_postfix": ") ",
     "delete_cmd_prefix": "rm(",
     "library": "var_list.r",
     "varRefreshCmd": "cat(var_dic_list()) "
    }
   },
   "types_to_exclude": [
    "module",
    "function",
    "builtin_function_or_method",
    "instance",
    "_Feature"
   ],
   "window_display": false
  }
 },
 "nbformat": 4,
 "nbformat_minor": 2
}
